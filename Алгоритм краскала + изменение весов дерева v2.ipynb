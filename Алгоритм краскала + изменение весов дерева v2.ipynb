{
 "cells": [
  {
   "cell_type": "code",
   "execution_count": 2,
   "metadata": {},
   "outputs": [],
   "source": [
    "import networkx as nx\n",
    "import matplotlib.pyplot as plt\n",
    "import random\n",
    "from pyvis.network import Network"
   ]
  },
  {
   "cell_type": "code",
   "execution_count": 13,
   "metadata": {},
   "outputs": [
    {
     "data": {
      "text/html": [
       "\n",
       "        <iframe\n",
       "            width=\"100%\"\n",
       "            height=\"750px\"\n",
       "            src=\"nx.html\"\n",
       "            frameborder=\"0\"\n",
       "            allowfullscreen\n",
       "        ></iframe>\n",
       "        "
      ],
      "text/plain": [
       "<IPython.lib.display.IFrame at 0x7f12ed2b89d0>"
      ]
     },
     "execution_count": 13,
     "metadata": {},
     "output_type": "execute_result"
    }
   ],
   "source": [
    "G = nx.complete_graph(50)\n",
    "nt = Network(height='750px',\n",
    "                  width='100%',\n",
    "                  bgcolor='#222222',\n",
    "                  font_color='white',\n",
    "                  notebook=True)\n",
    "for edge in G.edges(data=True):\n",
    "    edge[2]['weight'] = random.randint(1,10)\n",
    "nt.from_nx(G)\n",
    "nt.barnes_hut()\n",
    "#for edge in nt.get_edges():\n",
    "#     edge['weight'] = random.randint(1,10)\n",
    "nt.show('nx.html')\n",
    "# pos = nx.spring_layout(G)\n",
    "# nx.draw(G, pos, with_labels=True, font_weight='bold')\n",
    "# edge_weight = nx.get_edge_attributes(G,'weight')\n",
    "# nx.draw_networkx_edge_labels(G, pos, edge_labels = edge_weight)\n",
    "# plt.figure(figsize=(23, 23))\n",
    "# plt.show()"
   ]
  },
  {
   "cell_type": "code",
   "execution_count": 16,
   "metadata": {},
   "outputs": [
    {
     "data": {
      "text/html": [
       "\n",
       "        <iframe\n",
       "            width=\"100%\"\n",
       "            height=\"750px\"\n",
       "            src=\"nx.html\"\n",
       "            frameborder=\"0\"\n",
       "            allowfullscreen\n",
       "        ></iframe>\n",
       "        "
      ],
      "text/plain": [
       "<IPython.lib.display.IFrame at 0x7f1348a50580>"
      ]
     },
     "execution_count": 16,
     "metadata": {},
     "output_type": "execute_result"
    }
   ],
   "source": [
    "def search(g, parent, i):\n",
    "        if parent[i] == i:\n",
    "            return i\n",
    "        return search(g, parent, parent[i])\n",
    "\n",
    "def apply_union(g, parent, rank, x, y):\n",
    "        xroot = search(g, parent, x)\n",
    "        yroot = search(g, parent, y)\n",
    "        if rank[xroot] < rank[yroot]:\n",
    "            parent[xroot] = yroot\n",
    "        elif rank[xroot] > rank[yroot]:\n",
    "            parent[yroot] = xroot\n",
    "        else:\n",
    "            parent[yroot] = xroot\n",
    "            rank[xroot] += 1\n",
    " \n",
    "  \n",
    "def kruskal(graph):\n",
    "        result = []\n",
    "        i, e = 0, 0\n",
    "        graph = sorted(graph.edges(data=True), key=lambda t: t[2].get('weight', 1))\n",
    "        parent = []\n",
    "        rank = []\n",
    "        for node in range(50):\n",
    "            parent.append(node)\n",
    "            rank.append(0)\n",
    "        while e < 50 - 1:\n",
    "            u, v, w = graph[i]\n",
    "            i = i + 1\n",
    "            x = search(graph, parent, u)\n",
    "            y = search(graph, parent, v)\n",
    "            if x != y:\n",
    "                e = e + 1\n",
    "                result.append([u, v, w])\n",
    "                apply_union(graph, parent, rank, x, y)\n",
    "        new_graph = Network(height='750px',\n",
    "                  width='100%',\n",
    "                  bgcolor='#222222',\n",
    "                  font_color='white',\n",
    "                  notebook=True)\n",
    "        result_set = set()\n",
    "        for u, v, weight in result:\n",
    "            result_set.add(u)\n",
    "            result_set.add(v)\n",
    "        for n in result_set:\n",
    "            new_graph.add_node(n, size = 10)\n",
    "        for u, v, weight in result:\n",
    "            new_graph.add_edge(u,v,value=int(weight['weight']))\n",
    "        return new_graph\n",
    "            \n",
    "tree = kruskal(G)\n",
    "tree.show('nx.html')"
   ]
  },
  {
   "cell_type": "markdown",
   "metadata": {},
   "source": [
    "Так как количество ребер с весом 1 никто не ограничивал, остовное дерево почти полностью состоит из них"
   ]
  },
  {
   "cell_type": "code",
   "execution_count": 10,
   "metadata": {},
   "outputs": [
    {
     "data": {
      "text/html": [
       "\n",
       "        <iframe\n",
       "            width=\"100%\"\n",
       "            height=\"750px\"\n",
       "            src=\"nx.html\"\n",
       "            frameborder=\"0\"\n",
       "            allowfullscreen\n",
       "        ></iframe>\n",
       "        "
      ],
      "text/plain": [
       "<IPython.lib.display.IFrame at 0x7f12ed34f580>"
      ]
     },
     "execution_count": 10,
     "metadata": {},
     "output_type": "execute_result"
    }
   ],
   "source": [
    "rand = [random.randint(0,50) for i in range(5)]\n",
    "for edge in tree.get_edges():\n",
    "    if edge['to'] in rand:\n",
    "        edge['value'] = random.randint(1,3)\n",
    "tree.show('nx.html')"
   ]
  },
  {
   "cell_type": "code",
   "execution_count": 21,
   "metadata": {},
   "outputs": [
    {
     "data": {
      "text/plain": [
       "[<matplotlib.lines.Line2D at 0x7f12e4a7a2b0>]"
      ]
     },
     "execution_count": 21,
     "metadata": {},
     "output_type": "execute_result"
    },
    {
     "data": {
      "image/png": "[encoded data removed]",
      "text/plain": [
       "<Figure size 432x288 with 1 Axes>"
      ]
     },
     "metadata": {
      "needs_background": "light"
     },
     "output_type": "display_data"
    }
   ],
   "source": [
    "tree_weights = []\n",
    "for i in range(30):\n",
    "    edges = tree.get_edges()\n",
    "    tree_weights.append(sum([edge['value'] for edge in edges]))\n",
    "    rand = [random.randint(0,50) for i in range(5)]\n",
    "    for edge in edges:\n",
    "        if edge['to'] in rand:\n",
    "            edge['value'] = random.randint(1,3)\n",
    "fig, ax = plt.subplots()\n",
    "ax.set_title('Изменение веса остовного дерева')\n",
    "plt.plot(tree_weights)      "
   ]
  },
  {
   "cell_type": "code",
   "execution_count": 22,
   "metadata": {},
   "outputs": [
    {
     "data": {
      "text/plain": [
       "[<matplotlib.lines.Line2D at 0x7f12e49d8160>]"
      ]
     },
     "execution_count": 22,
     "metadata": {},
     "output_type": "execute_result"
    },
    {
     "data": {
      "image/png": "[encoded data removed]",
      "text/plain": [
       "<Figure size 432x288 with 1 Axes>"
      ]
     },
     "metadata": {
      "needs_background": "light"
     },
     "output_type": "display_data"
    }
   ],
   "source": [
    "tree_weights = []\n",
    "for i in range(30):\n",
    "    edges = tree.get_edges()\n",
    "    tree_weights.append(sum([edge['value'] for edge in edges]))\n",
    "    rand = [random.randint(0,50) for i in range(5)]\n",
    "    for edge in edges:\n",
    "        if edge['to'] in rand:\n",
    "            a = random.randint(1,8)\n",
    "            b = random.randint(a+1,10)\n",
    "            edge['value'] = random.randint(a,b)\n",
    "fig, ax = plt.subplots()\n",
    "ax.set_title('Изменение веса остовного дерева')\n",
    "plt.plot(tree_weights)     "
   ]
  },
  {
   "cell_type": "code",
   "execution_count": null,
   "metadata": {},
   "outputs": [],
   "source": []
  }
 ],
 "metadata": {
  "kernelspec": {
   "display_name": "Python 3",
   "language": "python",
   "name": "python3"
  },
  "language_info": {
   "codemirror_mode": {
    "name": "ipython",
    "version": 3
   },
   "file_extension": ".py",
   "mimetype": "text/x-python",
   "name": "python",
   "nbconvert_exporter": "python",
   "pygments_lexer": "ipython3",
   "version": "3.7.4"
  }
 },
 "nbformat": 4,
 "nbformat_minor": 4
}
