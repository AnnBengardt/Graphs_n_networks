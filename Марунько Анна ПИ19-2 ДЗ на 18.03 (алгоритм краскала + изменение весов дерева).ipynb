{
 "cells": [
  {
   "cell_type": "code",
   "execution_count": 1,
   "metadata": {},
   "outputs": [],
   "source": [
    "import networkx as nx\n",
    "import matplotlib.pyplot as plt\n",
    "import random\n",
    "from pyvis.network import Network"
   ]
  },
  {
   "cell_type": "markdown",
   "metadata": {},
   "source": [
    "1. Граф из 50 вершин со случайными весами от 1 до 10"
   ]
  },
  {
   "cell_type": "code",
   "execution_count": 38,
   "metadata": {
    "scrolled": true
   },
   "outputs": [
    {
     "data": {
      "text/html": [
       "\n",
       "        <iframe\n",
       "            width=\"100%\"\n",
       "            height=\"750px\"\n",
       "            src=\"nx.html\"\n",
       "            frameborder=\"0\"\n",
       "            allowfullscreen\n",
       "        ></iframe>\n",
       "        "
      ],
      "text/plain": [
       "<IPython.lib.display.IFrame at 0x29d2a1d1108>"
      ]
     },
     "execution_count": 38,
     "metadata": {},
     "output_type": "execute_result"
    }
   ],
   "source": [
    "G = nx.complete_graph(50)\n",
    "nt = Network(height='750px',\n",
    "                  width='100%',\n",
    "                  bgcolor='white',\n",
    "                  font_color='red',\n",
    "                  notebook=True)\n",
    "for edge in G.edges(data=True):\n",
    "    edge[2]['current_load'] = random.randint(1,10)\n",
    "    edge[2]\n",
    "nt.from_nx(G)\n",
    "nt.barnes_hut()\n",
    "nt.show('nx.html')"
   ]
  },
  {
   "cell_type": "markdown",
   "metadata": {},
   "source": [
    "Задача 1"
   ]
  },
  {
   "cell_type": "code",
   "execution_count": 28,
   "metadata": {},
   "outputs": [],
   "source": [
    "def apply_union(graph, parent, rank, x, y):\n",
    "        x_root = search(graph, parent, x)\n",
    "        y_root = search(graph, parent, y)\n",
    "        if rank[x_root] < rank[y_root]:\n",
    "            parent[x_root] = y_root\n",
    "        elif rank[x_root] > rank[y_root]:\n",
    "            parent[y_root] = x_root\n",
    "        else:\n",
    "            parent[y_root] = x_root\n",
    "            rank[x_root] += 1"
   ]
  },
  {
   "cell_type": "code",
   "execution_count": 29,
   "metadata": {},
   "outputs": [],
   "source": [
    "def search(graph, parent, i):\n",
    "        if parent[i] == i:\n",
    "            return i\n",
    "        return search(graph, parent, parent[i])"
   ]
  },
  {
   "cell_type": "code",
   "execution_count": 30,
   "metadata": {},
   "outputs": [],
   "source": [
    "def kruskal(graph):\n",
    "        result = []\n",
    "        i, e = 0, 0\n",
    "        graph = sorted(graph.edges(data=True), key=lambda t: t[2].get('weight', 1))\n",
    "        parent = []\n",
    "        rank = []\n",
    "        for node in range(50):\n",
    "            parent.append(node)\n",
    "            rank.append(0)\n",
    "        while e < 50 - 1:\n",
    "            u, v, w = graph[i]\n",
    "            i = i + 1\n",
    "            x = search(graph, parent, u)\n",
    "            y = search(graph, parent, v)\n",
    "            if x != y:\n",
    "                e = e + 1\n",
    "                result.append([u, v, w])\n",
    "                apply_union(graph, parent, rank, x, y)\n",
    "        new_graph = Network(height='750px',\n",
    "                  width='100%',\n",
    "                  bgcolor='white',\n",
    "                  font_color='red',\n",
    "                  notebook=True)\n",
    "        result_set = set()\n",
    "        for u, v, weight in result:\n",
    "            result_set.add(u)\n",
    "            result_set.add(v)\n",
    "        for n in result_set:\n",
    "            new_graph.add_node(n, size = 10)\n",
    "        for u, v, weight in result:\n",
    "            new_graph.add_edge(u,v,value=int(weight['weight']))\n",
    "        return new_graph"
   ]
  },
  {
   "cell_type": "code",
   "execution_count": 39,
   "metadata": {
    "scrolled": true
   },
   "outputs": [
    {
     "data": {
      "text/html": [
       "\n",
       "        <iframe\n",
       "            width=\"100%\"\n",
       "            height=\"750px\"\n",
       "            src=\"nx.html\"\n",
       "            frameborder=\"0\"\n",
       "            allowfullscreen\n",
       "        ></iframe>\n",
       "        "
      ],
      "text/plain": [
       "<IPython.lib.display.IFrame at 0x29d2c52c3c8>"
      ]
     },
     "execution_count": 39,
     "metadata": {},
     "output_type": "execute_result"
    }
   ],
   "source": [
    "result = kruskal(G)\n",
    "result.show('nx.html')"
   ]
  },
  {
   "cell_type": "markdown",
   "metadata": {},
   "source": [
    "Задача 2"
   ]
  },
  {
   "cell_type": "code",
   "execution_count": 40,
   "metadata": {
    "scrolled": true
   },
   "outputs": [
    {
     "data": {
      "text/html": [
       "\n",
       "        <iframe\n",
       "            width=\"100%\"\n",
       "            height=\"750px\"\n",
       "            src=\"nx.html\"\n",
       "            frameborder=\"0\"\n",
       "            allowfullscreen\n",
       "        ></iframe>\n",
       "        "
      ],
      "text/plain": [
       "<IPython.lib.display.IFrame at 0x29d2c580d88>"
      ]
     },
     "execution_count": 40,
     "metadata": {},
     "output_type": "execute_result"
    }
   ],
   "source": [
    "rand_lst = [random.randint(0,50) for i in range(5)]\n",
    "for edge in result.get_edges():\n",
    "    if edge['to'] in rand_lst:\n",
    "            edge['value'] = random.randint(1,3)\n",
    "result.show('nx.html')"
   ]
  },
  {
   "cell_type": "markdown",
   "metadata": {},
   "source": [
    "Задача 3"
   ]
  },
  {
   "cell_type": "code",
   "execution_count": 41,
   "metadata": {},
   "outputs": [],
   "source": [
    "def change_weight():\n",
    "    rand_lst = [random.randint(0,50) for i in range(5)]\n",
    "    for edge in result.get_edges():\n",
    "        if edge['to'] in rand_lst:\n",
    "                edge['value'] = random.randint(1,3)"
   ]
  },
  {
   "cell_type": "code",
   "execution_count": 42,
   "metadata": {
    "scrolled": true
   },
   "outputs": [
    {
     "data": {
      "text/html": [
       "\n",
       "        <iframe\n",
       "            width=\"100%\"\n",
       "            height=\"750px\"\n",
       "            src=\"nx.html\"\n",
       "            frameborder=\"0\"\n",
       "            allowfullscreen\n",
       "        ></iframe>\n",
       "        "
      ],
      "text/plain": [
       "<IPython.lib.display.IFrame at 0x29d2c590a08>"
      ]
     },
     "execution_count": 42,
     "metadata": {},
     "output_type": "execute_result"
    }
   ],
   "source": [
    "weights_alteration = []\n",
    "for i in range(30):\n",
    "    weights_alteration.append(sum([edge['value'] for edge in result.get_edges()]))\n",
    "    change_weight()\n",
    "result.show(\"nx.html\")"
   ]
  },
  {
   "cell_type": "code",
   "execution_count": 43,
   "metadata": {
    "scrolled": true
   },
   "outputs": [
    {
     "data": {
      "text/plain": [
       "[<matplotlib.lines.Line2D at 0x29d2c5ed788>]"
      ]
     },
     "execution_count": 43,
     "metadata": {},
     "output_type": "execute_result"
    },
    {
     "data": {
      "image/png": "[encoded data removed]",
      "text/plain": [
       "<Figure size 432x288 with 1 Axes>"
      ]
     },
     "metadata": {
      "needs_background": "light"
     },
     "output_type": "display_data"
    }
   ],
   "source": [
    "fig, ax = plt.subplots()\n",
    "ax.set_title('Изменение весов дерева после 30 итераций')\n",
    "plt.plot(weights_alteration)  "
   ]
  },
  {
   "cell_type": "markdown",
   "metadata": {},
   "source": [
    "Задача 4"
   ]
  },
  {
   "cell_type": "code",
   "execution_count": 44,
   "metadata": {},
   "outputs": [],
   "source": [
    "def change_weight_and_range():\n",
    "    rand_lst = [random.randint(0,50) for i in range(5)]\n",
    "    start = random.randint(1,100)\n",
    "    end = random.randint(start, start*2)\n",
    "    for edge in result.get_edges():\n",
    "        if edge['to'] in rand_lst:\n",
    "                edge['value'] = random.randint(start,end)"
   ]
  },
  {
   "cell_type": "code",
   "execution_count": 45,
   "metadata": {
    "scrolled": true
   },
   "outputs": [
    {
     "data": {
      "text/html": [
       "\n",
       "        <iframe\n",
       "            width=\"100%\"\n",
       "            height=\"750px\"\n",
       "            src=\"nx.html\"\n",
       "            frameborder=\"0\"\n",
       "            allowfullscreen\n",
       "        ></iframe>\n",
       "        "
      ],
      "text/plain": [
       "<IPython.lib.display.IFrame at 0x29d2d650a48>"
      ]
     },
     "execution_count": 45,
     "metadata": {},
     "output_type": "execute_result"
    }
   ],
   "source": [
    "weights_alteration = []\n",
    "for i in range(30):\n",
    "    weights_alteration.append(sum([edge['value'] for edge in result.get_edges()]))\n",
    "    change_weight_and_range()\n",
    "result.show(\"nx.html\")"
   ]
  },
  {
   "cell_type": "code",
   "execution_count": 46,
   "metadata": {},
   "outputs": [
    {
     "data": {
      "text/plain": [
       "[<matplotlib.lines.Line2D at 0x29d2d68c788>]"
      ]
     },
     "execution_count": 46,
     "metadata": {},
     "output_type": "execute_result"
    },
    {
     "data": {
      "image/png": "[encoded data removed]",
      "text/plain": [
       "<Figure size 432x288 with 1 Axes>"
      ]
     },
     "metadata": {
      "needs_background": "light"
     },
     "output_type": "display_data"
    }
   ],
   "source": [
    "fig, ax = plt.subplots()\n",
    "ax.set_title('Изменение весов дерева после 30 итераций')\n",
    "plt.plot(weights_alteration)    "
   ]
  }
 ],
 "metadata": {
  "kernelspec": {
   "display_name": "Python 3",
   "language": "python",
   "name": "python3"
  },
  "language_info": {
   "codemirror_mode": {
    "name": "ipython",
    "version": 3
   },
   "file_extension": ".py",
   "mimetype": "text/x-python",
   "name": "python",
   "nbconvert_exporter": "python",
   "pygments_lexer": "ipython3",
   "version": "3.7.4"
  }
 },
 "nbformat": 4,
 "nbformat_minor": 4
}
