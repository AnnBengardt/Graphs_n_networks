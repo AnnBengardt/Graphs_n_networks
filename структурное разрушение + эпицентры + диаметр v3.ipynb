{
 "cells": [
  {
   "cell_type": "code",
   "execution_count": 1,
   "metadata": {},
   "outputs": [],
   "source": [
    "import networkx as nx\n",
    "import random\n",
    "from pyvis.network import Network\n",
    "import matplotlib.pyplot as plt\n",
    "%matplotlib inline"
   ]
  },
  {
   "cell_type": "code",
   "execution_count": 2,
   "metadata": {},
   "outputs": [],
   "source": [
    "def edge(node1, node2):\n",
    "    if node1!=node2:\n",
    "        graph.add_edge(node1, node2)\n",
    "        return 'done'"
   ]
  },
  {
   "cell_type": "code",
   "execution_count": 3,
   "metadata": {},
   "outputs": [],
   "source": [
    "def destroy(graph, fisrt=False):\n",
    "    if nx.is_empty(graph):\n",
    "        return\n",
    "    #print('diameter: ' + str(nx.diameter(graph)))\n",
    "    critical_nodes = []\n",
    "    for node in graph.nodes(data='weight'):\n",
    "        if node[1] >= 10:\n",
    "            critical_nodes.append(node[0])\n",
    "    neighbours = [[] for i in range(len(critical_nodes))]\n",
    "    for edge in graph.edges():\n",
    "        for i in range(len(critical_nodes)):\n",
    "            if critical_nodes[i] == edge[0]:\n",
    "                neighbours[i].append(edge[1])\n",
    "            if critical_nodes[i] == edge[1]:\n",
    "                neighbours[i].append(edge[0])\n",
    "    for node in critical_nodes:\n",
    "        graph.remove_node(node)\n",
    "        for i in range(len(neighbours)):\n",
    "            try:\n",
    "                neighbours[i].remove(node)\n",
    "            except:\n",
    "                pass\n",
    "    for i in range(len(neighbours)):\n",
    "        try:\n",
    "            increment = 10/len(neighbours[i])\n",
    "        except ZeroDivisionError:\n",
    "            pass\n",
    "        for node in neighbours[i]:\n",
    "            graph.nodes[node]['weight'] += increment\n",
    "    nodes = list(graph.nodes(data=\"weight\"))\n",
    "    for node in nodes:\n",
    "        if node[1] >= 10:\n",
    "            destroy(graph)"
   ]
  },
  {
   "cell_type": "code",
   "execution_count": 4,
   "metadata": {},
   "outputs": [
    {
     "data": {
      "text/html": [
       "\n",
       "        <iframe\n",
       "            width=\"100%\"\n",
       "            height=\"750px\"\n",
       "            src=\"nx.html\"\n",
       "            frameborder=\"0\"\n",
       "            allowfullscreen\n",
       "        ></iframe>\n",
       "        "
      ],
      "text/plain": [
       "<IPython.lib.display.IFrame at 0x7fa2380670a0>"
      ]
     },
     "execution_count": 4,
     "metadata": {},
     "output_type": "execute_result"
    }
   ],
   "source": [
    "graph = nx.Graph()\n",
    "n_nodes = 100\n",
    "for i in range(n_nodes):\n",
    "        graph.add_node(i, weight=random.randint(0, 7))\n",
    "n_edges = 300\n",
    "for j in range(n_edges):\n",
    "        while not edge(random.randint(0, n_nodes-1), random.randint(0, n_nodes-1)):\n",
    "            d = 'done'\n",
    "nt = Network(height='750px',\n",
    "                  width='100%',\n",
    "                  bgcolor='#222222',\n",
    "                  font_color='white',\n",
    "                  notebook=True)\n",
    "nt.from_nx(graph)\n",
    "nt.barnes_hut()\n",
    "nt.show('nx.html')"
   ]
  },
  {
   "cell_type": "code",
   "execution_count": 5,
   "metadata": {},
   "outputs": [
    {
     "data": {
      "text/plain": [
       "<matplotlib.collections.PathCollection at 0x7fa22ff7b970>"
      ]
     },
     "execution_count": 5,
     "metadata": {},
     "output_type": "execute_result"
    },
    {
     "data": {
      "image/png": "[encoded data removed]",
      "text/plain": [
       "<Figure size 432x288 with 1 Axes>"
      ]
     },
     "metadata": {
      "needs_background": "light"
     },
     "output_type": "display_data"
    }
   ],
   "source": [
    "critical_nodes = [random.randint(0,n_nodes-1) for i in range(10)]\n",
    "for node in critical_nodes:\n",
    "    graph.nodes[node]['weight'] = 10\n",
    "counter = 0\n",
    "destroys = []\n",
    "if nx.is_connected(graph):\n",
    "    diameters = [nx.diameter(graph)]\n",
    "else:\n",
    "    diameters = [0]\n",
    "while len(graph) > 1:\n",
    "    if nx.is_connected(graph):\n",
    "        critical_nodes = []\n",
    "        for node in graph.nodes(data='weight'):\n",
    "            if node[1] >= 10:\n",
    "                critical_nodes.append(node[0])\n",
    "        if len(critical_nodes) < 1:\n",
    "            rand = random.randint(0, len(graph) - 1)\n",
    "            graph.nodes[list(graph.nodes)[rand]]['weight'] = 10\n",
    "        destroy(graph)\n",
    "    else:\n",
    "        S = [graph.subgraph(c).copy() for c in nx.connected_components(graph)]\n",
    "        graph = max(S, key=len)\n",
    "        critical_nodes = []\n",
    "        for node in graph.nodes(data='weight'):\n",
    "            if node[1] >= 10:\n",
    "                critical_nodes.append(node[0])\n",
    "        if len(critical_nodes) < 1:\n",
    "            rand = random.randint(0, len(graph) - 1)\n",
    "            graph.nodes[list(graph.nodes)[rand]]['weight'] = 10\n",
    "        destroy(graph)\n",
    "        destroys.append(counter)\n",
    "    counter += 1\n",
    "    try:\n",
    "        diameters.append(nx.diameter(graph))\n",
    "    except:\n",
    "        diameters.append(0)\n",
    "counters = [i for i in range(counter+1)]\n",
    "x = [0 for i in range(len(destroys))]\n",
    "plt.plot(counters, diameters, color='green')\n",
    "plt.xlabel(\"Итерация\")\n",
    "plt.ylabel(\"Диаметр\")\n",
    "plt.scatter(destroys, x, color='black')"
   ]
  },
  {
   "cell_type": "code",
   "execution_count": null,
   "metadata": {},
   "outputs": [],
   "source": []
  }
 ],
 "metadata": {
  "kernelspec": {
   "display_name": "Python 3",
   "language": "python",
   "name": "python3"
  },
  "language_info": {
   "codemirror_mode": {
    "name": "ipython",
    "version": 3
   },
   "file_extension": ".py",
   "mimetype": "text/x-python",
   "name": "python",
   "nbconvert_exporter": "python",
   "pygments_lexer": "ipython3",
   "version": "3.7.4"
  }
 },
 "nbformat": 4,
 "nbformat_minor": 4
}
