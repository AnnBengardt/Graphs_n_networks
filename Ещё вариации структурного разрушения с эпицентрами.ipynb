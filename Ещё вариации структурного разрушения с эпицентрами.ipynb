{
 "cells": [
  {
   "cell_type": "code",
   "execution_count": 1,
   "metadata": {},
   "outputs": [],
   "source": [
    "import networkx as nx\n",
    "import matplotlib.pyplot as plt\n",
    "import random\n",
    "from pyvis.network import Network"
   ]
  },
  {
   "cell_type": "code",
   "execution_count": 2,
   "metadata": {},
   "outputs": [],
   "source": [
    "def edge(node1, node2):\n",
    "    if node1!=node2:\n",
    "        graph.add_edge(node1, node2)\n",
    "        return 'done'"
   ]
  },
  {
   "cell_type": "code",
   "execution_count": 3,
   "metadata": {},
   "outputs": [
    {
     "data": {
      "text/plain": [
       "NodeDataView({0: 3, 1: 2, 2: 6, 3: 3, 4: 1, 5: 5, 6: 3, 7: 4, 8: 3, 9: 3, 10: 0, 11: 6, 12: 0, 13: 5, 14: 5, 15: 1, 16: 2, 17: 4, 18: 6, 19: 6}, data='weight')"
      ]
     },
     "execution_count": 3,
     "metadata": {},
     "output_type": "execute_result"
    }
   ],
   "source": [
    "graph = nx.Graph()\n",
    "nt = Network(height='750px', width='100%', notebook=True)\n",
    "for i in range(20):\n",
    "    graph.add_node(i, weight=random.randint(0,7))\n",
    "for i in range(50):\n",
    "    while edge(random.randint(0,19), random.randint(0,7)):\n",
    "        d = 'done'\n",
    "graph.nodes(data='weight')"
   ]
  },
  {
   "cell_type": "code",
   "execution_count": 4,
   "metadata": {},
   "outputs": [],
   "source": [
    "critical_node1 = random.randint(0,19)\n",
    "critical_node2 = random.randint(0,19)\n",
    "graph.nodes[critical_node1]['weight'] = 10\n",
    "graph.nodes[critical_node2]['weight'] = 10"
   ]
  },
  {
   "cell_type": "code",
   "execution_count": 5,
   "metadata": {},
   "outputs": [
    {
     "data": {
      "text/plain": [
       "10"
      ]
     },
     "execution_count": 5,
     "metadata": {},
     "output_type": "execute_result"
    }
   ],
   "source": [
    "critical_node1"
   ]
  },
  {
   "cell_type": "code",
   "execution_count": 6,
   "metadata": {},
   "outputs": [
    {
     "data": {
      "text/plain": [
       "9"
      ]
     },
     "execution_count": 6,
     "metadata": {},
     "output_type": "execute_result"
    }
   ],
   "source": [
    "critical_node2"
   ]
  },
  {
   "cell_type": "code",
   "execution_count": 13,
   "metadata": {},
   "outputs": [],
   "source": [
    "def destroy(graph, n=2):\n",
    "#     neighbours1 = []\n",
    "#     neighbours2 = []\n",
    "    neighbours = [[] for i in range(n)]\n",
    "    critical_nodes = []\n",
    "    for node in graph.nodes(data='weight'):\n",
    "        if node[1] >= 10:\n",
    "            critical_nodes.append(node[0])\n",
    "    for edge in graph.edges():\n",
    "        for i in range(len(critical_nodes)):\n",
    "            if critical_nodes[i] == edge[0]:\n",
    "                neighbours[i].append(edge[1])\n",
    "            if critical_nodes[i] == edge[1]:\n",
    "                neighbours[i].append(edge[0])\n",
    "            \n",
    "#         if critical_node1 == edge[0]:\n",
    "#             neighbours1.append(edge[1])\n",
    "#         if critical_node1 == edge[1]:\n",
    "#             neighbours1.append(edge[0])\n",
    "#         if critical_node2 == edge[0]:\n",
    "#             neighbours2.append(edge[1])\n",
    "#         if critical_node2 == edge[1]:\n",
    "#             neighbours2.append(edge[0])\n",
    "    for node in critical_nodes:\n",
    "        graph.remove_node(node)\n",
    "        for i in range(len(neighbours)):\n",
    "            try:\n",
    "                neighbours[i].remove(node)\n",
    "            except:\n",
    "                pass\n",
    "    for i in range(len(neighbours)):\n",
    "        try:\n",
    "            increment = 10/len(neighbours[i])\n",
    "        except ZeroDivisionError:\n",
    "            pass\n",
    "        for node in neighbours[i]:\n",
    "            graph.nodes[node]['weight'] += increment\n",
    "    for node in graph.nodes(data=\"weight\"):\n",
    "        if node[1] >= 10:\n",
    "            destroy(graph)\n",
    "    print(graph.nodes(data='weight'))"
   ]
  },
  {
   "cell_type": "code",
   "execution_count": 14,
   "metadata": {},
   "outputs": [
    {
     "name": "stdout",
     "output_type": "stream",
     "text": [
      "[(0, 5.5), (1, 4.5), (2, 8.5), (3, 5.5), (4, 3.5), (5, 7.5), (6, 5.5), (7, 6.5), (8, 3), (11, 6), (12, 0), (13, 5), (14, 5), (15, 1), (16, 2), (17, 4), (18, 6), (19, 6)]\n"
     ]
    }
   ],
   "source": [
    "destroy(graph)"
   ]
  },
  {
   "cell_type": "code",
   "execution_count": null,
   "metadata": {},
   "outputs": [],
   "source": [
    "#second variant"
   ]
  },
  {
   "cell_type": "code",
   "execution_count": 11,
   "metadata": {},
   "outputs": [],
   "source": [
    "neighbours1 = []\n",
    "neighbours2 = []\n",
    "for edge in graph.edges():\n",
    "    if critical_node1 == edge[0]:\n",
    "        neighbours1.append(edge[1])\n",
    "    if critical_node1 == edge[1]:\n",
    "        neighbours1.append(edge[0])\n",
    "    if critical_node2 == edge[0]:\n",
    "        neighbours2.append(edge[1])\n",
    "    if critical_node2 == edge[1]:\n",
    "        neighbours2.append(edge[0])"
   ]
  },
  {
   "cell_type": "code",
   "execution_count": 12,
   "metadata": {},
   "outputs": [
    {
     "ename": "NetworkXError",
     "evalue": "The node 10 is not in the graph.",
     "output_type": "error",
     "traceback": [
      "\u001b[1;31m---------------------------------------------------------------------------\u001b[0m",
      "\u001b[1;31mKeyError\u001b[0m                                  Traceback (most recent call last)",
      "\u001b[1;32m~\\Anaconda3\\lib\\site-packages\\networkx\\classes\\graph.py\u001b[0m in \u001b[0;36mremove_node\u001b[1;34m(self, n)\u001b[0m\n\u001b[0;32m    619\u001b[0m         \u001b[1;32mtry\u001b[0m\u001b[1;33m:\u001b[0m\u001b[1;33m\u001b[0m\u001b[1;33m\u001b[0m\u001b[0m\n\u001b[1;32m--> 620\u001b[1;33m             \u001b[0mnbrs\u001b[0m \u001b[1;33m=\u001b[0m \u001b[0mlist\u001b[0m\u001b[1;33m(\u001b[0m\u001b[0madj\u001b[0m\u001b[1;33m[\u001b[0m\u001b[0mn\u001b[0m\u001b[1;33m]\u001b[0m\u001b[1;33m)\u001b[0m  \u001b[1;31m# list handles self-loops (allows mutation)\u001b[0m\u001b[1;33m\u001b[0m\u001b[1;33m\u001b[0m\u001b[0m\n\u001b[0m\u001b[0;32m    621\u001b[0m             \u001b[1;32mdel\u001b[0m \u001b[0mself\u001b[0m\u001b[1;33m.\u001b[0m\u001b[0m_node\u001b[0m\u001b[1;33m[\u001b[0m\u001b[0mn\u001b[0m\u001b[1;33m]\u001b[0m\u001b[1;33m\u001b[0m\u001b[1;33m\u001b[0m\u001b[0m\n",
      "\u001b[1;31mKeyError\u001b[0m: 10",
      "\nDuring handling of the above exception, another exception occurred:\n",
      "\u001b[1;31mNetworkXError\u001b[0m                             Traceback (most recent call last)",
      "\u001b[1;32m<ipython-input-12-16c7c2a19d3f>\u001b[0m in \u001b[0;36m<module>\u001b[1;34m\u001b[0m\n\u001b[1;32m----> 1\u001b[1;33m \u001b[0mgraph\u001b[0m\u001b[1;33m.\u001b[0m\u001b[0mremove_node\u001b[0m\u001b[1;33m(\u001b[0m\u001b[0mcritical_node1\u001b[0m\u001b[1;33m)\u001b[0m\u001b[1;33m\u001b[0m\u001b[1;33m\u001b[0m\u001b[0m\n\u001b[0m\u001b[0;32m      2\u001b[0m \u001b[0mgraph\u001b[0m\u001b[1;33m.\u001b[0m\u001b[0mremove_node\u001b[0m\u001b[1;33m(\u001b[0m\u001b[0mcritical_node2\u001b[0m\u001b[1;33m)\u001b[0m\u001b[1;33m\u001b[0m\u001b[1;33m\u001b[0m\u001b[0m\n\u001b[0;32m      3\u001b[0m \u001b[0mneighbours1\u001b[0m\u001b[1;33m.\u001b[0m\u001b[0mremove\u001b[0m\u001b[1;33m(\u001b[0m\u001b[0mcritical_node2\u001b[0m\u001b[1;33m)\u001b[0m\u001b[1;33m\u001b[0m\u001b[1;33m\u001b[0m\u001b[0m\n\u001b[0;32m      4\u001b[0m \u001b[0mneighbours2\u001b[0m\u001b[1;33m.\u001b[0m\u001b[0mremove\u001b[0m\u001b[1;33m(\u001b[0m\u001b[0mcritical_node1\u001b[0m\u001b[1;33m)\u001b[0m\u001b[1;33m\u001b[0m\u001b[1;33m\u001b[0m\u001b[0m\n\u001b[0;32m      5\u001b[0m \u001b[0mincrement\u001b[0m \u001b[1;33m=\u001b[0m \u001b[1;36m10\u001b[0m\u001b[1;33m/\u001b[0m\u001b[0mlen\u001b[0m\u001b[1;33m(\u001b[0m\u001b[0mneighbours1\u001b[0m\u001b[1;33m)\u001b[0m\u001b[1;33m\u001b[0m\u001b[1;33m\u001b[0m\u001b[0m\n",
      "\u001b[1;32m~\\Anaconda3\\lib\\site-packages\\networkx\\classes\\graph.py\u001b[0m in \u001b[0;36mremove_node\u001b[1;34m(self, n)\u001b[0m\n\u001b[0;32m    621\u001b[0m             \u001b[1;32mdel\u001b[0m \u001b[0mself\u001b[0m\u001b[1;33m.\u001b[0m\u001b[0m_node\u001b[0m\u001b[1;33m[\u001b[0m\u001b[0mn\u001b[0m\u001b[1;33m]\u001b[0m\u001b[1;33m\u001b[0m\u001b[1;33m\u001b[0m\u001b[0m\n\u001b[0;32m    622\u001b[0m         \u001b[1;32mexcept\u001b[0m \u001b[0mKeyError\u001b[0m\u001b[1;33m:\u001b[0m  \u001b[1;31m# NetworkXError if n not in self\u001b[0m\u001b[1;33m\u001b[0m\u001b[1;33m\u001b[0m\u001b[0m\n\u001b[1;32m--> 623\u001b[1;33m             \u001b[1;32mraise\u001b[0m \u001b[0mNetworkXError\u001b[0m\u001b[1;33m(\u001b[0m\u001b[1;34m\"The node %s is not in the graph.\"\u001b[0m \u001b[1;33m%\u001b[0m \u001b[1;33m(\u001b[0m\u001b[0mn\u001b[0m\u001b[1;33m,\u001b[0m\u001b[1;33m)\u001b[0m\u001b[1;33m)\u001b[0m\u001b[1;33m\u001b[0m\u001b[1;33m\u001b[0m\u001b[0m\n\u001b[0m\u001b[0;32m    624\u001b[0m         \u001b[1;32mfor\u001b[0m \u001b[0mu\u001b[0m \u001b[1;32min\u001b[0m \u001b[0mnbrs\u001b[0m\u001b[1;33m:\u001b[0m\u001b[1;33m\u001b[0m\u001b[1;33m\u001b[0m\u001b[0m\n\u001b[0;32m    625\u001b[0m             \u001b[1;32mdel\u001b[0m \u001b[0madj\u001b[0m\u001b[1;33m[\u001b[0m\u001b[0mu\u001b[0m\u001b[1;33m]\u001b[0m\u001b[1;33m[\u001b[0m\u001b[0mn\u001b[0m\u001b[1;33m]\u001b[0m   \u001b[1;31m# remove all edges n-u in graph\u001b[0m\u001b[1;33m\u001b[0m\u001b[1;33m\u001b[0m\u001b[0m\n",
      "\u001b[1;31mNetworkXError\u001b[0m: The node 10 is not in the graph."
     ]
    }
   ],
   "source": [
    "graph.remove_node(critical_node1)\n",
    "graph.remove_node(critical_node2)\n",
    "neighbours1.remove(critical_node2)\n",
    "neighbours2.remove(critical_node1)\n",
    "increment = 10/len(neighbours1)\n",
    "for node in neighbours1:\n",
    "    graph.nodes[node]['weight'] += increment\n",
    "increment = 10/len(neighbours2)\n",
    "for node in neighbours2:\n",
    "    graph.nodes[node]['weight'] += increment\n",
    "graph.nodes(data=\"weight\")"
   ]
  },
  {
   "cell_type": "code",
   "execution_count": null,
   "metadata": {},
   "outputs": [],
   "source": []
  }
 ],
 "metadata": {
  "kernelspec": {
   "display_name": "Python 3",
   "language": "python",
   "name": "python3"
  },
  "language_info": {
   "codemirror_mode": {
    "name": "ipython",
    "version": 3
   },
   "file_extension": ".py",
   "mimetype": "text/x-python",
   "name": "python",
   "nbconvert_exporter": "python",
   "pygments_lexer": "ipython3",
   "version": "3.7.4"
  }
 },
 "nbformat": 4,
 "nbformat_minor": 4
}
